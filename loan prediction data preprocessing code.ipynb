{
 "cells": [
  {
   "cell_type": "code",
   "execution_count": null,
   "metadata": {},
   "outputs": [],
   "source": [
    "import numpy as np\n",
    "import pandas as pd\n",
    "# reading training and test dataset\n",
    "train=pd.read_csv(\"F:\\\\ML\\\\dataset\\\\loan prediction\\\\train.csv\")\n",
    "test=pd.read_csv(\"F:\\\\ML\\\\dataset\\\\loan prediction\\\\test.csv\")"
   ]
  },
  {
   "cell_type": "code",
   "execution_count": null,
   "metadata": {},
   "outputs": [],
   "source": [
    "train['source']='train'\n",
    "test['source']='test'"
   ]
  },
  {
   "cell_type": "code",
   "execution_count": null,
   "metadata": {},
   "outputs": [],
   "source": [
    "# joining Loan_Status column to test dataset so to make both dataset of equal columns\n",
    "# to avoid non alignment between datasets after combining\n",
    "#add Loan_Status column in test dataset by MS excel\n",
    "test"
   ]
  },
  {
   "cell_type": "code",
   "execution_count": null,
   "metadata": {},
   "outputs": [],
   "source": [
    "# Combining both datasets for better data preprocessing\n",
    "data=pd.concat([train,test],sort=True)\n",
    "# checking whether dataset is properly joined or not\n",
    "print(train.shape,test.shape,data.shape)"
   ]
  },
  {
   "cell_type": "code",
   "execution_count": null,
   "metadata": {},
   "outputs": [],
   "source": [
    "data"
   ]
  },
  {
   "cell_type": "code",
   "execution_count": null,
   "metadata": {},
   "outputs": [],
   "source": [
    " # stats of each numeric variable\n",
    "data.describe()"
   ]
  },
  {
   "cell_type": "code",
   "execution_count": null,
   "metadata": {},
   "outputs": [],
   "source": [
    "# to know the unique values in each column\n",
    "data.apply(lambda x: (x.nunique()))"
   ]
  },
  {
   "cell_type": "code",
   "execution_count": null,
   "metadata": {
    "scrolled": true
   },
   "outputs": [],
   "source": [
    "# frequency of each categorical column categories\n",
    "\n",
    "# filter categorical variable\n",
    "categorical_cols=[x for x in data.dtypes.index if data.dtypes[x]==\"object\"]\n",
    "\n",
    "# exclude ID\n",
    "categorical_cols=[x for x in categorical_cols if x not in ['Loan_ID']]\n",
    "\n",
    "# print frequency of categories\n",
    "for freq_category in categorical_cols :\n",
    "    print(\"\\n frequency of category for this column is %s\"%freq_category)\n",
    "    print(data[freq_category].value_counts())\n",
    "    \n",
    "\n"
   ]
  },
  {
   "cell_type": "code",
   "execution_count": null,
   "metadata": {},
   "outputs": [],
   "source": [
    "# To know the frequency of 3+ in Dependents column\n",
    "for i in data['Dependents']:\n",
    "    count=data['Dependents'].value_counts()\n",
    "print(count)"
   ]
  },
  {
   "cell_type": "code",
   "execution_count": null,
   "metadata": {},
   "outputs": [],
   "source": [
    "# setting the categories properly\n",
    "data['Dependents']=data['Dependents'].replace({ '3+' : 4})\n",
    "data['Dependents']=data['Dependents'].replace({ '3+' : 4})"
   ]
  },
  {
   "cell_type": "code",
   "execution_count": null,
   "metadata": {},
   "outputs": [],
   "source": [
    "# to know in which columns, values are missing\n",
    "data.isnull().sum()"
   ]
  },
  {
   "cell_type": "code",
   "execution_count": null,
   "metadata": {},
   "outputs": [],
   "source": [
    "# filling missing data\n",
    "\n",
    "data['Self_Employed'].fillna(data['Self_Employed'].mode()[0], inplace=True)\n",
    "data['Gender'].fillna(data['Gender'].mode()[0], inplace=True)\n",
    "data['Married'].fillna(data['Married'].mode()[0], inplace=True)\n",
    "data['Dependents'].fillna(data['Dependents'].mode()[0], inplace=True)\n",
    "data['Loan_Amount_Term'].fillna(data['Loan_Amount_Term'].mode()[0], inplace=True)\n",
    "data['Credit_History'].fillna(data['Credit_History'].mode()[0], inplace=True)\n",
    "data['LoanAmount'].fillna(data['LoanAmount'].mean(),inplace=True)"
   ]
  },
  {
   "cell_type": "code",
   "execution_count": null,
   "metadata": {},
   "outputs": [],
   "source": [
    "data"
   ]
  },
  {
   "cell_type": "code",
   "execution_count": null,
   "metadata": {},
   "outputs": [],
   "source": [
    "data"
   ]
  },
  {
   "cell_type": "code",
   "execution_count": null,
   "metadata": {},
   "outputs": [],
   "source": [
    "# Encoding categorical data\n",
    "\n",
    "from sklearn.preprocessing import LabelEncoder\n",
    "le=LabelEncoder()\n",
    "categorical_columns=['Education','Gender','Property_Area','Married','Self_Employed']\n",
    "\n",
    "for x in categorical_columns:\n",
    "    data[x]=le.fit_transform(data[x].astype(str))"
   ]
  },
  {
   "cell_type": "code",
   "execution_count": null,
   "metadata": {
    "scrolled": true
   },
   "outputs": [],
   "source": [
    "data"
   ]
  },
  {
   "cell_type": "code",
   "execution_count": null,
   "metadata": {},
   "outputs": [],
   "source": [
    "# hot encoding of categorical columns\n",
    "\n",
    "data = pd.get_dummies(data, columns=['Education','Gender','Property_Area','Married','Self_Employed'])"
   ]
  },
  {
   "cell_type": "code",
   "execution_count": null,
   "metadata": {
    "scrolled": true
   },
   "outputs": [],
   "source": [
    "data"
   ]
  },
  {
   "cell_type": "code",
   "execution_count": null,
   "metadata": {
    "scrolled": true
   },
   "outputs": [],
   "source": [
    "# dividing the dataset into train and test\n",
    "train=data.loc[data['source']=='train']\n",
    "test=data.loc[data['source']=='test']\n",
    "\n",
    "#Drop unnecessary columns\n",
    "train=train.drop(['source'],axis=1)\n",
    "test=test.drop(['Loan_Status','source'],axis=1)"
   ]
  },
  {
   "cell_type": "code",
   "execution_count": null,
   "metadata": {},
   "outputs": [],
   "source": [
    "# Export file as their modified version\n",
    "train.to_csv(\"train_mod.csv\",index=False)\n",
    "test.to_csv(\"test_mod.csv\",index=False)"
   ]
  },
  {
   "cell_type": "code",
   "execution_count": null,
   "metadata": {},
   "outputs": [],
   "source": []
  },
  {
   "cell_type": "code",
   "execution_count": null,
   "metadata": {},
   "outputs": [],
   "source": []
  }
 ],
 "metadata": {
  "kernelspec": {
   "display_name": "Python 3",
   "language": "python",
   "name": "python3"
  },
  "language_info": {
   "codemirror_mode": {
    "name": "ipython",
    "version": 3
   },
   "file_extension": ".py",
   "mimetype": "text/x-python",
   "name": "python",
   "nbconvert_exporter": "python",
   "pygments_lexer": "ipython3",
   "version": "3.6.4"
  }
 },
 "nbformat": 4,
 "nbformat_minor": 2
}
